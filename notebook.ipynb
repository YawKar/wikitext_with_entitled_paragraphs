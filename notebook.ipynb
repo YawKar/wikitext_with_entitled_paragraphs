{
 "cells": [
  {
   "cell_type": "code",
   "execution_count": null,
   "metadata": {},
   "outputs": [],
   "source": [
    "from huggingface_hub import notebook_login\n",
    "notebook_login()"
   ]
  },
  {
   "cell_type": "code",
   "execution_count": null,
   "metadata": {},
   "outputs": [],
   "source": [
    "import datasets"
   ]
  },
  {
   "cell_type": "code",
   "execution_count": null,
   "metadata": {},
   "outputs": [],
   "source": [
    "wiki: datasets.DatasetDict = datasets.load_dataset(\"wikitext\", \"wikitext-103-raw-v1\", revision=\"b08601e04326c79dfdd32d625aee71d232d685c3\")"
   ]
  },
  {
   "cell_type": "code",
   "execution_count": null,
   "metadata": {},
   "outputs": [],
   "source": [
    "wiki = wiki.filter(lambda x: len(x['text'].strip()) != 0)"
   ]
  },
  {
   "cell_type": "code",
   "execution_count": null,
   "metadata": {},
   "outputs": [],
   "source": [
    "import regex\n",
    "\n",
    "grouped_wiki = datasets.DatasetDict()\n",
    "\n",
    "for datasetName in wiki:\n",
    "  rgx = \" ((?:= )+)([^=]+) \\\\1\\n\"\n",
    "  combined: list[dict] = []\n",
    "  for row in wiki[datasetName]:\n",
    "    text: str = row['text']\n",
    "    if matched := regex.match(rgx, text):\n",
    "      level = matched.group(1).count(\"=\")\n",
    "      title = matched.group(2)\n",
    "      if level == 1:\n",
    "        combined.append({\n",
    "          \"levels\": [level],\n",
    "          \"titles\": [title],\n",
    "          \"texts\": [[]],\n",
    "        })\n",
    "      else: # if level > 1\n",
    "        combined[-1]['levels'].append(level)\n",
    "        combined[-1]['titles'].append(title)\n",
    "        combined[-1]['texts'].append([])\n",
    "    else: # if not a title\n",
    "      combined[-1]['texts'][-1].append(text.strip())\n",
    "  grouped_wiki[datasetName] = datasets.Dataset.from_list(combined)"
   ]
  },
  {
   "cell_type": "code",
   "execution_count": null,
   "metadata": {},
   "outputs": [],
   "source": [
    "grouped_wiki"
   ]
  },
  {
   "cell_type": "code",
   "execution_count": null,
   "metadata": {},
   "outputs": [],
   "source": [
    "def make_pairs_of_heading_and_paragraph_from_article(article: dict) -> list[tuple[str, str]]:\n",
    "  pairs: list[tuple[str, str]] = []\n",
    "  stacked_titles: list[tuple[int, str]] = []\n",
    "  for level, title, texts in zip(article['levels'], article['titles'], article['texts']):\n",
    "    while len(stacked_titles) != 0 and stacked_titles[-1][0] >= level:\n",
    "      stacked_titles.pop()\n",
    "    stacked_titles.append((level, title))\n",
    "    for text in texts:\n",
    "      if len(text) != 0:\n",
    "        heading = f\"{\", \".join(map(lambda x: x[1], stacked_titles))}\\n\"\n",
    "        pairs.append((heading, text))\n",
    "  return pairs"
   ]
  },
  {
   "cell_type": "code",
   "execution_count": null,
   "metadata": {},
   "outputs": [],
   "source": [
    "for datasetName in grouped_wiki.keys():\n",
    "  print(f\"total articles to process in '{datasetName}':\", len(grouped_wiki[datasetName]))\n",
    "\n",
    "  headings_and_paragraphs_table: dict[str, list[str]] = {\n",
    "    \"heading\": [],\n",
    "    \"paragraph\": [],\n",
    "  }\n",
    "  processed_articles_n = 0\n",
    "\n",
    "  for pairs_from_article in map(make_pairs_of_heading_and_paragraph_from_article, grouped_wiki[datasetName]):\n",
    "    for pair in pairs_from_article:\n",
    "      headings_and_paragraphs_table[\"heading\"].append(pair[0])\n",
    "      headings_and_paragraphs_table[\"paragraph\"].append(pair[1])\n",
    "\n",
    "    processed_articles_n += 1\n",
    "    if processed_articles_n % 100 == 0:\n",
    "      print(\"articles_processed:\", processed_articles_n)\n",
    "\n",
    "  grouped_wiki[datasetName] = datasets.Dataset.from_dict(headings_and_paragraphs_table)"
   ]
  },
  {
   "cell_type": "code",
   "execution_count": null,
   "metadata": {},
   "outputs": [],
   "source": [
    "grouped_wiki"
   ]
  },
  {
   "cell_type": "code",
   "execution_count": null,
   "metadata": {},
   "outputs": [],
   "source": [
    "grouped_wiki.push_to_hub(repo_id=\"wikitext_with_entitled_paragraphs\")"
   ]
  }
 ],
 "metadata": {
  "kernelspec": {
   "display_name": ".venv",
   "language": "python",
   "name": "python3"
  },
  "language_info": {
   "codemirror_mode": {
    "name": "ipython",
    "version": 3
   },
   "file_extension": ".py",
   "mimetype": "text/x-python",
   "name": "python",
   "nbconvert_exporter": "python",
   "pygments_lexer": "ipython3",
   "version": "3.12.2"
  }
 },
 "nbformat": 4,
 "nbformat_minor": 2
}
